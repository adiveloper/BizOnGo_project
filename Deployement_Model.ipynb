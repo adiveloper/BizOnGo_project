{
 "cells": [
  {
   "cell_type": "code",
   "execution_count": 14,
   "metadata": {},
   "outputs": [],
   "source": [
    "import pandas as pd\n",
    "import numpy as np\n",
    "\n",
    "from sklearn import preprocessing,svm\n",
    "from sklearn.model_selection import cross_validate,train_test_split\n",
    "from sklearn.linear_model import LinearRegression\n",
    "from sklearn.svm import LinearSVC,SVC,SVR\n",
    "from sklearn.neural_network import MLPClassifier\n",
    "from sklearn.preprocessing import MinMaxScaler,RobustScaler,OneHotEncoder\n",
    "from sklearn.neighbors import KNeighborsClassifier\n",
    "from sklearn.ensemble import RandomForestClassifier\n",
    "\n",
    "import matplotlib.pyplot as plt\n"
   ]
  },
  {
   "cell_type": "code",
   "execution_count": 15,
   "metadata": {},
   "outputs": [
    {
     "data": {
      "text/html": [
       "<div>\n",
       "<style scoped>\n",
       "    .dataframe tbody tr th:only-of-type {\n",
       "        vertical-align: middle;\n",
       "    }\n",
       "\n",
       "    .dataframe tbody tr th {\n",
       "        vertical-align: top;\n",
       "    }\n",
       "\n",
       "    .dataframe thead th {\n",
       "        text-align: right;\n",
       "    }\n",
       "</style>\n",
       "<table border=\"1\" class=\"dataframe\">\n",
       "  <thead>\n",
       "    <tr style=\"text-align: right;\">\n",
       "      <th></th>\n",
       "      <th>Category ID</th>\n",
       "      <th>Quantity</th>\n",
       "      <th>Region</th>\n",
       "      <th>Supplier ID</th>\n",
       "      <th>Buyer ID</th>\n",
       "      <th>Transport Type</th>\n",
       "      <th>Dispatch Mode</th>\n",
       "      <th>Days</th>\n",
       "    </tr>\n",
       "  </thead>\n",
       "  <tbody>\n",
       "    <tr>\n",
       "      <th>0</th>\n",
       "      <td>52</td>\n",
       "      <td>2500.0</td>\n",
       "      <td>West</td>\n",
       "      <td>818</td>\n",
       "      <td>12341</td>\n",
       "      <td>Seller Transport</td>\n",
       "      <td>Seller to Buyer</td>\n",
       "      <td>a</td>\n",
       "    </tr>\n",
       "    <tr>\n",
       "      <th>1</th>\n",
       "      <td>52</td>\n",
       "      <td>1000.0</td>\n",
       "      <td>South</td>\n",
       "      <td>14663</td>\n",
       "      <td>11462</td>\n",
       "      <td>Seller Transport</td>\n",
       "      <td>Seller to Buyer</td>\n",
       "      <td>a</td>\n",
       "    </tr>\n",
       "    <tr>\n",
       "      <th>2</th>\n",
       "      <td>10</td>\n",
       "      <td>3000.0</td>\n",
       "      <td>North</td>\n",
       "      <td>10412</td>\n",
       "      <td>6723</td>\n",
       "      <td>Bizongo Transport</td>\n",
       "      <td>Seller to Buyer</td>\n",
       "      <td>a</td>\n",
       "    </tr>\n",
       "    <tr>\n",
       "      <th>3</th>\n",
       "      <td>10</td>\n",
       "      <td>50000.0</td>\n",
       "      <td>North</td>\n",
       "      <td>10412</td>\n",
       "      <td>6723</td>\n",
       "      <td>Bizongo Transport</td>\n",
       "      <td>Seller to Buyer</td>\n",
       "      <td>a</td>\n",
       "    </tr>\n",
       "    <tr>\n",
       "      <th>4</th>\n",
       "      <td>10</td>\n",
       "      <td>1500.0</td>\n",
       "      <td>North</td>\n",
       "      <td>10412</td>\n",
       "      <td>6723</td>\n",
       "      <td>Seller Transport</td>\n",
       "      <td>Seller to Buyer</td>\n",
       "      <td>a</td>\n",
       "    </tr>\n",
       "  </tbody>\n",
       "</table>\n",
       "</div>"
      ],
      "text/plain": [
       "   Category ID  Quantity Region  Supplier ID  Buyer ID     Transport Type  \\\n",
       "0           52    2500.0   West          818     12341   Seller Transport   \n",
       "1           52    1000.0  South        14663     11462   Seller Transport   \n",
       "2           10    3000.0  North        10412      6723  Bizongo Transport   \n",
       "3           10   50000.0  North        10412      6723  Bizongo Transport   \n",
       "4           10    1500.0  North        10412      6723   Seller Transport   \n",
       "\n",
       "     Dispatch Mode Days  \n",
       "0  Seller to Buyer    a  \n",
       "1  Seller to Buyer    a  \n",
       "2  Seller to Buyer    a  \n",
       "3  Seller to Buyer    a  \n",
       "4  Seller to Buyer    a  "
      ]
     },
     "execution_count": 15,
     "metadata": {},
     "output_type": "execute_result"
    }
   ],
   "source": [
    "df = pd.read_csv('5_20_l_data.csv',encoding='utf-8')\n",
    "df.head()"
   ]
  },
  {
   "cell_type": "code",
   "execution_count": 16,
   "metadata": {},
   "outputs": [
    {
     "data": {
      "text/plain": [
       "(4248, 8)"
      ]
     },
     "execution_count": 16,
     "metadata": {},
     "output_type": "execute_result"
    }
   ],
   "source": [
    "df.shape"
   ]
  },
  {
   "cell_type": "code",
   "execution_count": 17,
   "metadata": {},
   "outputs": [],
   "source": [
    "df.dropna(inplace = True)\n",
    "df.drop(df[df['Quantity'] == 0].index, inplace = True) "
   ]
  },
  {
   "cell_type": "code",
   "execution_count": 18,
   "metadata": {},
   "outputs": [],
   "source": [
    "X = np.array(df[['Quantity','Buyer ID','Region',\n",
    "                 'Transport Type','Dispatch Mode']])\n",
    "    \n",
    "y = np.array(df[['Days']])\n",
    "y = y.reshape((len(y),))"
   ]
  },
  {
   "cell_type": "code",
   "execution_count": 19,
   "metadata": {},
   "outputs": [],
   "source": [
    "leMode = preprocessing.LabelEncoder()\n",
    "leMode2 = preprocessing.LabelEncoder()\n",
    "#leMode.fit(['seller_to_buyer','seller_to_warehouse','buyer_to_seller'])\n",
    "#X[:,0] = leMode1.fit_transform(X[:,0])\n",
    "X[:,1] = leMode.fit_transform(X[:,1])\n",
    "X[:,2] = leMode.fit_transform(X[:,2])\n",
    "X[:,3] = leMode.fit_transform(X[:,3])\n",
    "X[:,4] = leMode.fit_transform(X[:,4])\n",
    "#X[:,5] = leMode.fit_transform(X[:,5])\n",
    "#X[:,6] = leMode.fit_transform(X[:,6])"
   ]
  },
  {
   "cell_type": "code",
   "execution_count": 20,
   "metadata": {},
   "outputs": [],
   "source": [
    "leY = preprocessing.LabelEncoder()\n",
    "y = leY.fit_transform(y)"
   ]
  },
  {
   "cell_type": "code",
   "execution_count": 21,
   "metadata": {},
   "outputs": [
    {
     "name": "stderr",
     "output_type": "stream",
     "text": [
      "c:\\users\\block\\appdata\\local\\programs\\python\\python36\\lib\\site-packages\\sklearn\\utils\\validation.py:590: DataConversionWarning: Data with input dtype object was converted to float64 by MinMaxScaler.\n",
      "  warnings.warn(msg, DataConversionWarning)\n"
     ]
    }
   ],
   "source": [
    "scaler = MinMaxScaler(feature_range=(0, 1))\n",
    "scaler.fit(X[:,0].reshape(-1, 1))\n",
    "X[:,0] = scaler.transform(X[:,0].reshape(-1, 1)).reshape((X[:,0].shape[0]))"
   ]
  },
  {
   "cell_type": "code",
   "execution_count": 22,
   "metadata": {},
   "outputs": [],
   "source": [
    "X_train, X_test, y_train, y_test = train_test_split(X,y, test_size=0.2, random_state=0)"
   ]
  },
  {
   "cell_type": "markdown",
   "metadata": {},
   "source": [
    "## SVM Classifier"
   ]
  },
  {
   "cell_type": "code",
   "execution_count": 23,
   "metadata": {},
   "outputs": [
    {
     "name": "stdout",
     "output_type": "stream",
     "text": [
      "Accuracy on Train Data with --SVM Classifier-- is  40.42111506524318 %\n",
      "Accuracy on Test Data with --SVM Classifier-- is  36.137440758293835 %\n"
     ]
    }
   ],
   "source": [
    "clf_svm = SVC(gamma ='auto' ,kernel='rbf', C=10,probability=True)\n",
    "e_SVM = clf_svm.fit(X_train, y_train).score(X_test,y_test)\n",
    "e_SVM_Train_Data = clf_svm.fit(X_train, y_train).score(X_train, y_train)\n",
    "print(\"Accuracy on Train Data with --SVM Classifier-- is \", e_SVM_Train_Data*100,\"%\")\n",
    "print(\"Accuracy on Test Data with --SVM Classifier-- is \", e_SVM*100,\"%\")"
   ]
  },
  {
   "cell_type": "code",
   "execution_count": 24,
   "metadata": {},
   "outputs": [],
   "source": [
    "def predict(Xp):\n",
    "    leMode = preprocessing.LabelEncoder()\n",
    "    Xp[1] = leMode.fit_transform([Xp[1]])\n",
    "    Xp[2] = leMode.fit_transform([Xp[2]])\n",
    "    Xp[3] = leMode.fit_transform([Xp[3]])\n",
    "    Xp[4] = leMode.fit_transform([Xp[4]])\n",
    "    scaler = MinMaxScaler(feature_range=(0, 1))\n",
    "    scaler.fit(X[0].reshape(-1, 1))\n",
    "    Xp[0] = scaler.transform(np.array([Xp[0]]).reshape(-1, 1)).reshape((1,-1))\n",
    "    Xp = np.array(Xp).reshape((-1,5))\n",
    "\n",
    "    c = clf_svm.predict_proba(Xp).T\n",
    "    return c*100"
   ]
  },
  {
   "cell_type": "code",
   "execution_count": 25,
   "metadata": {},
   "outputs": [
    {
     "name": "stdout",
     "output_type": "stream",
     "text": [
      "[[18.3387263 ]\n",
      " [19.29966003]\n",
      " [20.73064606]\n",
      " [21.80354908]\n",
      " [19.82741853]]\n"
     ]
    },
    {
     "name": "stderr",
     "output_type": "stream",
     "text": [
      "c:\\users\\block\\appdata\\local\\programs\\python\\python36\\lib\\site-packages\\sklearn\\utils\\validation.py:590: DataConversionWarning: Data with input dtype object was converted to float64 by MinMaxScaler.\n",
      "  warnings.warn(msg, DataConversionWarning)\n"
     ]
    }
   ],
   "source": [
    "Xxc = [2500,'West',12341,'Seller Transport','Seller to Buyer']\n",
    "print(predict(Xxc))"
   ]
  },
  {
   "cell_type": "code",
   "execution_count": null,
   "metadata": {},
   "outputs": [],
   "source": []
  }
 ],
 "metadata": {
  "kernelspec": {
   "display_name": "Python 3",
   "language": "python",
   "name": "python3"
  },
  "language_info": {
   "codemirror_mode": {
    "name": "ipython",
    "version": 3
   },
   "file_extension": ".py",
   "mimetype": "text/x-python",
   "name": "python",
   "nbconvert_exporter": "python",
   "pygments_lexer": "ipython3",
   "version": "3.6.6"
  }
 },
 "nbformat": 4,
 "nbformat_minor": 2
}
